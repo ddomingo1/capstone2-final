{
 "cells": [
  {
   "cell_type": "markdown",
   "id": "0a553d5c",
   "metadata": {},
   "source": [
    "# Data cleaning "
   ]
  },
  {
   "cell_type": "code",
   "execution_count": 1,
   "id": "f631c6e3",
   "metadata": {},
   "outputs": [],
   "source": [
    "#import the relevant data packages\n",
    "import pandas as pd\n",
    "import numpy as np"
   ]
  },
  {
   "cell_type": "code",
   "execution_count": 2,
   "id": "19ee600d",
   "metadata": {},
   "outputs": [],
   "source": [
    "#import the data from the previous step\n",
    "covid_out = pd.read_csv('COVID-19_Outcomes_by_Testing_Cohorts__Cases__Hospitalizations__and_Deaths_20240603.csv')\n",
    "covid_waste = pd.read_csv('SARS-CoV-2_concentrations_measured_in_NYC_Wastewater_20240603.csv')"
   ]
  },
  {
   "cell_type": "markdown",
   "id": "c2224a14",
   "metadata": {},
   "source": [
    "### our objectives are to \n",
    "    1) inspect the data\n",
    "    2) remove or replace any null values\n",
    "    3) reformat the dates to the same format\n",
    "    4) remove any uncessary or duplicate columns\n",
    "    5) prepare both data sets to have a similar time window "
   ]
  },
  {
   "cell_type": "markdown",
   "id": "7650bd7c",
   "metadata": {},
   "source": [
    "## 1) inspect the data"
   ]
  },
  {
   "cell_type": "code",
   "execution_count": 3,
   "id": "57d4fb08",
   "metadata": {},
   "outputs": [],
   "source": [
    "# load the data\n",
    "covid_out = pd.read_csv('COVID-19_Outcomes_by_Testing_Cohorts__Cases__Hospitalizations__and_Deaths_20240603.csv')\n",
    "covid_waste = pd.read_csv('SARS-CoV-2_concentrations_measured_in_NYC_Wastewater_20240603.csv')"
   ]
  },
  {
   "cell_type": "markdown",
   "id": "6d01c395",
   "metadata": {},
   "source": [
    "### now we are ready to begin data cleaning"
   ]
  },
  {
   "cell_type": "markdown",
   "id": "a34d1699",
   "metadata": {},
   "source": [
    "I have prepared a for loop to create a helpful table to look at the data in a glance"
   ]
  },
  {
   "cell_type": "code",
   "execution_count": 4,
   "id": "83130fea",
   "metadata": {},
   "outputs": [
    {
     "data": {
      "text/html": [
       "<div>\n",
       "<style scoped>\n",
       "    .dataframe tbody tr th:only-of-type {\n",
       "        vertical-align: middle;\n",
       "    }\n",
       "\n",
       "    .dataframe tbody tr th {\n",
       "        vertical-align: top;\n",
       "    }\n",
       "\n",
       "    .dataframe thead th {\n",
       "        text-align: right;\n",
       "    }\n",
       "</style>\n",
       "<table border=\"1\" class=\"dataframe\">\n",
       "  <thead>\n",
       "    <tr style=\"text-align: right;\">\n",
       "      <th></th>\n",
       "      <th>col_name</th>\n",
       "      <th>col_dtype</th>\n",
       "      <th>num_of_nulls</th>\n",
       "      <th>num_of_non_nulls</th>\n",
       "      <th>num_of_distinct_values</th>\n",
       "      <th>distinct_values_counts</th>\n",
       "    </tr>\n",
       "  </thead>\n",
       "  <tbody>\n",
       "    <tr>\n",
       "      <th>0</th>\n",
       "      <td>extract_date</td>\n",
       "      <td>object</td>\n",
       "      <td>0</td>\n",
       "      <td>176148</td>\n",
       "      <td>532</td>\n",
       "      <td>{'10/01/2021': 625, '09/30/2021': 625, '09/29/...</td>\n",
       "    </tr>\n",
       "    <tr>\n",
       "      <th>1</th>\n",
       "      <td>specimen_date</td>\n",
       "      <td>object</td>\n",
       "      <td>0</td>\n",
       "      <td>176148</td>\n",
       "      <td>643</td>\n",
       "      <td>{'03/31/2020': 532, '03/13/2020': 532, '03/26/...</td>\n",
       "    </tr>\n",
       "    <tr>\n",
       "      <th>2</th>\n",
       "      <td>Number_tested</td>\n",
       "      <td>int64</td>\n",
       "      <td>0</td>\n",
       "      <td>176148</td>\n",
       "      <td>14740</td>\n",
       "      <td>{1: 6008, 2: 4459, 4: 1343, 3: 802, 63: 524, 9...</td>\n",
       "    </tr>\n",
       "    <tr>\n",
       "      <th>3</th>\n",
       "      <td>Number_confirmed</td>\n",
       "      <td>int64</td>\n",
       "      <td>0</td>\n",
       "      <td>176148</td>\n",
       "      <td>6344</td>\n",
       "      <td>{0: 8042, 1: 5333, 2: 1088, 4: 571, 5: 533, 6:...</td>\n",
       "    </tr>\n",
       "    <tr>\n",
       "      <th>4</th>\n",
       "      <td>Number_hospitalized</td>\n",
       "      <td>int64</td>\n",
       "      <td>0</td>\n",
       "      <td>176148</td>\n",
       "      <td>1868</td>\n",
       "      <td>{0: 13683, 1: 1996, 33: 1286, 16: 1070, 22: 10...</td>\n",
       "    </tr>\n",
       "    <tr>\n",
       "      <th>5</th>\n",
       "      <td>Number_deaths</td>\n",
       "      <td>int64</td>\n",
       "      <td>0</td>\n",
       "      <td>176148</td>\n",
       "      <td>915</td>\n",
       "      <td>{0: 22138, 1: 7585, 2: 6750, 3: 5690, 4: 4027,...</td>\n",
       "    </tr>\n",
       "  </tbody>\n",
       "</table>\n",
       "</div>"
      ],
      "text/plain": [
       "              col_name col_dtype  num_of_nulls  num_of_non_nulls  \\\n",
       "0         extract_date    object             0            176148   \n",
       "1        specimen_date    object             0            176148   \n",
       "2        Number_tested     int64             0            176148   \n",
       "3     Number_confirmed     int64             0            176148   \n",
       "4  Number_hospitalized     int64             0            176148   \n",
       "5        Number_deaths     int64             0            176148   \n",
       "\n",
       "   num_of_distinct_values                             distinct_values_counts  \n",
       "0                     532  {'10/01/2021': 625, '09/30/2021': 625, '09/29/...  \n",
       "1                     643  {'03/31/2020': 532, '03/13/2020': 532, '03/26/...  \n",
       "2                   14740  {1: 6008, 2: 4459, 4: 1343, 3: 802, 63: 524, 9...  \n",
       "3                    6344  {0: 8042, 1: 5333, 2: 1088, 4: 571, 5: 533, 6:...  \n",
       "4                    1868  {0: 13683, 1: 1996, 33: 1286, 16: 1070, 22: 10...  \n",
       "5                     915  {0: 22138, 1: 7585, 2: 6750, 3: 5690, 4: 4027,...  "
      ]
     },
     "metadata": {},
     "output_type": "display_data"
    }
   ],
   "source": [
    "# here is a helpful script to quickly look at the data in general\n",
    "def column_summary(covid_out):\n",
    "    summary_data = []\n",
    "    \n",
    "    for col_name in covid_out.columns:\n",
    "        col_dtype = covid_out[col_name].dtype\n",
    "        num_of_nulls = covid_out[col_name].isnull().sum()\n",
    "        num_of_non_nulls = covid_out[col_name].notnull().sum()\n",
    "        num_of_distinct_values = covid_out[col_name].nunique()\n",
    "        \n",
    "        if num_of_distinct_values <= 10:\n",
    "            distinct_values_counts = covid_out[col_name].value_counts().to_dict()\n",
    "        else:\n",
    "            top_10_values_counts = covid_out[col_name].value_counts().head(10).to_dict()\n",
    "            distinct_values_counts = {k: v for k, v in sorted(top_10_values_counts.items(), key=lambda item: item[1], reverse=True)}\n",
    "\n",
    "        summary_data.append({\n",
    "            'col_name': col_name,\n",
    "            'col_dtype': col_dtype,\n",
    "            'num_of_nulls': num_of_nulls,\n",
    "            'num_of_non_nulls': num_of_non_nulls,\n",
    "            'num_of_distinct_values': num_of_distinct_values,\n",
    "            'distinct_values_counts': distinct_values_counts\n",
    "        })\n",
    "    \n",
    "    summary_covid_out = pd.DataFrame(summary_data)\n",
    "    return summary_covid_out\n",
    "summary_covid_out = column_summary(covid_out)\n",
    "display(summary_covid_out)"
   ]
  },
  {
   "cell_type": "markdown",
   "id": "e899d136",
   "metadata": {},
   "source": [
    "We can see a few things require our attention\n",
    "we need to standardize the dates"
   ]
  },
  {
   "cell_type": "code",
   "execution_count": 5,
   "id": "1ac44ac8",
   "metadata": {},
   "outputs": [],
   "source": [
    "covid_out['specimen_date']=covid_out['specimen_date'].astype('str')\n",
    "covid_out['specimen_date']= pd.to_datetime(covid_out['specimen_date'], errors= 'coerce')"
   ]
  },
  {
   "cell_type": "markdown",
   "id": "cf235d5c",
   "metadata": {},
   "source": [
    "there is a column that is called extract date.\n",
    "according to the NYC website this column is to show when the test was performed\n",
    "based on this we can drop this column"
   ]
  },
  {
   "cell_type": "code",
   "execution_count": 6,
   "id": "6535b853",
   "metadata": {},
   "outputs": [],
   "source": [
    "covid_out= covid_out.drop('extract_date', axis=1)"
   ]
  },
  {
   "cell_type": "markdown",
   "id": "e9a6aca5",
   "metadata": {},
   "source": [
    "to keep the data neat the column names will be renamed with smaller letters"
   ]
  },
  {
   "cell_type": "code",
   "execution_count": 7,
   "id": "64363104",
   "metadata": {},
   "outputs": [],
   "source": [
    "covid_out= covid_out.rename(columns={'specimen_date':'sample_date',\n",
    "                                        'Number_tested':'number_tested',\n",
    "                                        'Number_confirmed':'number_confirmed',\n",
    "                                        'Number_hospitalized':'number_hospitalized',})\n"
   ]
  },
  {
   "cell_type": "markdown",
   "id": "a671a551",
   "metadata": {},
   "source": [
    "lets see the data again if our transformations worked.\n",
    "we can use .head() to see the data at a glance"
   ]
  },
  {
   "cell_type": "code",
   "execution_count": 8,
   "id": "ca34deb9",
   "metadata": {},
   "outputs": [
    {
     "data": {
      "text/html": [
       "<div>\n",
       "<style scoped>\n",
       "    .dataframe tbody tr th:only-of-type {\n",
       "        vertical-align: middle;\n",
       "    }\n",
       "\n",
       "    .dataframe tbody tr th {\n",
       "        vertical-align: top;\n",
       "    }\n",
       "\n",
       "    .dataframe thead th {\n",
       "        text-align: right;\n",
       "    }\n",
       "</style>\n",
       "<table border=\"1\" class=\"dataframe\">\n",
       "  <thead>\n",
       "    <tr style=\"text-align: right;\">\n",
       "      <th></th>\n",
       "      <th>sample_date</th>\n",
       "      <th>number_tested</th>\n",
       "      <th>number_confirmed</th>\n",
       "      <th>number_hospitalized</th>\n",
       "      <th>Number_deaths</th>\n",
       "    </tr>\n",
       "  </thead>\n",
       "  <tbody>\n",
       "    <tr>\n",
       "      <th>0</th>\n",
       "      <td>2020-04-17</td>\n",
       "      <td>9979</td>\n",
       "      <td>3386</td>\n",
       "      <td>527</td>\n",
       "      <td>96</td>\n",
       "    </tr>\n",
       "    <tr>\n",
       "      <th>1</th>\n",
       "      <td>2020-02-08</td>\n",
       "      <td>1</td>\n",
       "      <td>0</td>\n",
       "      <td>0</td>\n",
       "      <td>0</td>\n",
       "    </tr>\n",
       "    <tr>\n",
       "      <th>2</th>\n",
       "      <td>2020-03-05</td>\n",
       "      <td>63</td>\n",
       "      <td>5</td>\n",
       "      <td>3</td>\n",
       "      <td>1</td>\n",
       "    </tr>\n",
       "    <tr>\n",
       "      <th>3</th>\n",
       "      <td>2020-04-09</td>\n",
       "      <td>9019</td>\n",
       "      <td>4803</td>\n",
       "      <td>1253</td>\n",
       "      <td>386</td>\n",
       "    </tr>\n",
       "    <tr>\n",
       "      <th>4</th>\n",
       "      <td>2020-04-03</td>\n",
       "      <td>9389</td>\n",
       "      <td>5523</td>\n",
       "      <td>1688</td>\n",
       "      <td>582</td>\n",
       "    </tr>\n",
       "  </tbody>\n",
       "</table>\n",
       "</div>"
      ],
      "text/plain": [
       "  sample_date  number_tested  number_confirmed  number_hospitalized  \\\n",
       "0  2020-04-17           9979              3386                  527   \n",
       "1  2020-02-08              1                 0                    0   \n",
       "2  2020-03-05             63                 5                    3   \n",
       "3  2020-04-09           9019              4803                 1253   \n",
       "4  2020-04-03           9389              5523                 1688   \n",
       "\n",
       "   Number_deaths  \n",
       "0             96  \n",
       "1              0  \n",
       "2              1  \n",
       "3            386  \n",
       "4            582  "
      ]
     },
     "execution_count": 8,
     "metadata": {},
     "output_type": "execute_result"
    }
   ],
   "source": [
    "covid_out.head()"
   ]
  },
  {
   "cell_type": "markdown",
   "id": "2c8ac08c",
   "metadata": {},
   "source": [
    "looks good. now lets double check for any missing values. we will use .isnull().sum()"
   ]
  },
  {
   "cell_type": "code",
   "execution_count": 9,
   "id": "a49ce5ca",
   "metadata": {},
   "outputs": [
    {
     "data": {
      "text/plain": [
       "sample_date            169\n",
       "number_tested            0\n",
       "number_confirmed         0\n",
       "number_hospitalized      0\n",
       "Number_deaths            0\n",
       "dtype: int64"
      ]
     },
     "execution_count": 9,
     "metadata": {},
     "output_type": "execute_result"
    }
   ],
   "source": [
    "covid_out.isnull().sum()"
   ]
  },
  {
   "cell_type": "markdown",
   "id": "d43b04c3",
   "metadata": {},
   "source": [
    "it seems we have 169 entries missing dates.\n",
    "if we look at our first chart we have 176148 entries.\n",
    "with this in mind we will drop these data points in order to prepare the data for future analysis.\n",
    "these missing data points is a small percent of our overal data and should not affect our analysis."
   ]
  },
  {
   "cell_type": "code",
   "execution_count": 10,
   "id": "ea9003d0",
   "metadata": {},
   "outputs": [],
   "source": [
    "covid_out=covid_out.dropna()\n"
   ]
  },
  {
   "cell_type": "markdown",
   "id": "b1bf08f3",
   "metadata": {},
   "source": [
    "### now repeat the same sets for covid_waste"
   ]
  },
  {
   "cell_type": "code",
   "execution_count": 11,
   "id": "d8a6ba95",
   "metadata": {},
   "outputs": [
    {
     "data": {
      "text/html": [
       "<div>\n",
       "<style scoped>\n",
       "    .dataframe tbody tr th:only-of-type {\n",
       "        vertical-align: middle;\n",
       "    }\n",
       "\n",
       "    .dataframe tbody tr th {\n",
       "        vertical-align: top;\n",
       "    }\n",
       "\n",
       "    .dataframe thead th {\n",
       "        text-align: right;\n",
       "    }\n",
       "</style>\n",
       "<table border=\"1\" class=\"dataframe\">\n",
       "  <thead>\n",
       "    <tr style=\"text-align: right;\">\n",
       "      <th></th>\n",
       "      <th>col_name</th>\n",
       "      <th>col_dtype</th>\n",
       "      <th>num_of_nulls</th>\n",
       "      <th>num_of_non_nulls</th>\n",
       "      <th>num_of_distinct_values</th>\n",
       "      <th>distinct_values_counts</th>\n",
       "    </tr>\n",
       "  </thead>\n",
       "  <tbody>\n",
       "    <tr>\n",
       "      <th>0</th>\n",
       "      <td>Sample Date</td>\n",
       "      <td>object</td>\n",
       "      <td>0</td>\n",
       "      <td>5292</td>\n",
       "      <td>334</td>\n",
       "      <td>{'02/04/2024': 28, '01/09/2024': 28, '02/20/20...</td>\n",
       "    </tr>\n",
       "    <tr>\n",
       "      <th>1</th>\n",
       "      <td>Test date</td>\n",
       "      <td>object</td>\n",
       "      <td>21</td>\n",
       "      <td>5271</td>\n",
       "      <td>357</td>\n",
       "      <td>{'02/08/2023': 28, '03/22/2023': 28, '04/12/20...</td>\n",
       "    </tr>\n",
       "    <tr>\n",
       "      <th>2</th>\n",
       "      <td>WRRF Name</td>\n",
       "      <td>object</td>\n",
       "      <td>0</td>\n",
       "      <td>5292</td>\n",
       "      <td>14</td>\n",
       "      <td>{'26th Ward': 378, 'Bowery Bay': 378, 'Coney I...</td>\n",
       "    </tr>\n",
       "    <tr>\n",
       "      <th>3</th>\n",
       "      <td>WRRF Abbreviation</td>\n",
       "      <td>object</td>\n",
       "      <td>0</td>\n",
       "      <td>5292</td>\n",
       "      <td>14</td>\n",
       "      <td>{'26W': 378, 'BB': 378, 'CI': 378, 'HP': 378, ...</td>\n",
       "    </tr>\n",
       "    <tr>\n",
       "      <th>4</th>\n",
       "      <td>Concentration SARS-CoV-2 gene target (N1 Copie...</td>\n",
       "      <td>float64</td>\n",
       "      <td>173</td>\n",
       "      <td>5119</td>\n",
       "      <td>4822</td>\n",
       "      <td>{86016.0: 3, 71880.0: 3, 75384.0: 3, 262.0: 3,...</td>\n",
       "    </tr>\n",
       "    <tr>\n",
       "      <th>5</th>\n",
       "      <td>Per capita SARS-CoV-2 load (N1 copies per day ...</td>\n",
       "      <td>float64</td>\n",
       "      <td>207</td>\n",
       "      <td>5085</td>\n",
       "      <td>2085</td>\n",
       "      <td>{10400000.0: 16, 11800000.0: 15, 11600000.0: 1...</td>\n",
       "    </tr>\n",
       "    <tr>\n",
       "      <th>6</th>\n",
       "      <td>Annotation</td>\n",
       "      <td>object</td>\n",
       "      <td>3910</td>\n",
       "      <td>1382</td>\n",
       "      <td>67</td>\n",
       "      <td>{'Multiplex Overlap Study': 336, 'This sample ...</td>\n",
       "    </tr>\n",
       "    <tr>\n",
       "      <th>7</th>\n",
       "      <td>Population Served, estimated</td>\n",
       "      <td>int64</td>\n",
       "      <td>0</td>\n",
       "      <td>5292</td>\n",
       "      <td>14</td>\n",
       "      <td>{318262: 378, 894311: 378, 647635: 378, 781885...</td>\n",
       "    </tr>\n",
       "    <tr>\n",
       "      <th>8</th>\n",
       "      <td>Technology</td>\n",
       "      <td>object</td>\n",
       "      <td>0</td>\n",
       "      <td>5292</td>\n",
       "      <td>3</td>\n",
       "      <td>{'RT-qPCR - N1': 3290, 'dPCR - N1': 1358, 'dPC...</td>\n",
       "    </tr>\n",
       "  </tbody>\n",
       "</table>\n",
       "</div>"
      ],
      "text/plain": [
       "                                            col_name col_dtype  num_of_nulls  \\\n",
       "0                                        Sample Date    object             0   \n",
       "1                                          Test date    object            21   \n",
       "2                                          WRRF Name    object             0   \n",
       "3                                  WRRF Abbreviation    object             0   \n",
       "4  Concentration SARS-CoV-2 gene target (N1 Copie...   float64           173   \n",
       "5  Per capita SARS-CoV-2 load (N1 copies per day ...   float64           207   \n",
       "6                                         Annotation    object          3910   \n",
       "7                      Population Served, estimated      int64             0   \n",
       "8                                         Technology    object             0   \n",
       "\n",
       "   num_of_non_nulls  num_of_distinct_values  \\\n",
       "0              5292                     334   \n",
       "1              5271                     357   \n",
       "2              5292                      14   \n",
       "3              5292                      14   \n",
       "4              5119                    4822   \n",
       "5              5085                    2085   \n",
       "6              1382                      67   \n",
       "7              5292                      14   \n",
       "8              5292                       3   \n",
       "\n",
       "                              distinct_values_counts  \n",
       "0  {'02/04/2024': 28, '01/09/2024': 28, '02/20/20...  \n",
       "1  {'02/08/2023': 28, '03/22/2023': 28, '04/12/20...  \n",
       "2  {'26th Ward': 378, 'Bowery Bay': 378, 'Coney I...  \n",
       "3  {'26W': 378, 'BB': 378, 'CI': 378, 'HP': 378, ...  \n",
       "4  {86016.0: 3, 71880.0: 3, 75384.0: 3, 262.0: 3,...  \n",
       "5  {10400000.0: 16, 11800000.0: 15, 11600000.0: 1...  \n",
       "6  {'Multiplex Overlap Study': 336, 'This sample ...  \n",
       "7  {318262: 378, 894311: 378, 647635: 378, 781885...  \n",
       "8  {'RT-qPCR - N1': 3290, 'dPCR - N1': 1358, 'dPC...  "
      ]
     },
     "metadata": {},
     "output_type": "display_data"
    }
   ],
   "source": [
    "def column_summary(covid_waste):\n",
    "    summary_data = []\n",
    "    \n",
    "    for col_name in covid_waste.columns:\n",
    "        col_dtype = covid_waste[col_name].dtype\n",
    "        num_of_nulls = covid_waste[col_name].isnull().sum()\n",
    "        num_of_non_nulls = covid_waste[col_name].notnull().sum()\n",
    "        num_of_distinct_values = covid_waste[col_name].nunique()\n",
    "        \n",
    "        if num_of_distinct_values <= 10:\n",
    "            distinct_values_counts = covid_waste[col_name].value_counts().to_dict()\n",
    "        else:\n",
    "            top_10_values_counts = covid_waste[col_name].value_counts().head(10).to_dict()\n",
    "            distinct_values_counts = {k: v for k, v in sorted(top_10_values_counts.items(), key=lambda item: item[1], reverse=True)}\n",
    "\n",
    "        summary_data.append({\n",
    "            'col_name': col_name,\n",
    "            'col_dtype': col_dtype,\n",
    "            'num_of_nulls': num_of_nulls,\n",
    "            'num_of_non_nulls': num_of_non_nulls,\n",
    "            'num_of_distinct_values': num_of_distinct_values,\n",
    "            'distinct_values_counts': distinct_values_counts\n",
    "        })\n",
    "    \n",
    "    summary_covid_waste = pd.DataFrame(summary_data)\n",
    "    return summary_covid_waste\n",
    "summary_covid_waste = column_summary(covid_waste)\n",
    "display(summary_covid_waste)"
   ]
  },
  {
   "cell_type": "markdown",
   "id": "c8467622",
   "metadata": {},
   "source": [
    "Upon inspection of the NYC website about this data set the technology column is to note that there was a change in the kind of technolgy used to test the waste water after a certain point in time. Therefore it can be dropped.\n",
    "The abbreviation column is a duplicate column of the testing site. Therefore it can be dropped.\n",
    "The website further states that the annotation column has any notes as to why a test is delayed or about any abnormalities at the waste treatement site that delay the sampling of the waste water. Therefore it can be dropped.\n",
    "The website also states the test date is when the analysis is performed. Therefore it can be dropped.\n",
    "\n",
    "The date can also be standardized like the previous DataFrame.\n",
    "\n",
    "The columns can also be renamed to small letters and shortened for convenience\n"
   ]
  },
  {
   "cell_type": "code",
   "execution_count": 12,
   "id": "2d7bdea4",
   "metadata": {},
   "outputs": [],
   "source": [
    "covid_waste['Sample Date']=covid_waste['Sample Date'].astype('str')\n",
    "covid_waste['Sample Date']= pd.to_datetime(covid_waste['Sample Date'], errors= 'coerce')\n",
    "\n",
    "covid_waste= covid_waste.rename(columns={'Sample Date':'sample_date',\n",
    "                                        'WRRF Name':'collection_site',\n",
    "                                        'Concentration SARS-CoV-2 gene target (N1 Copies/L) ':'concentration',\n",
    "                                        'Per capita SARS-CoV-2 load (N1 copies per day per population)':'per_capita',\n",
    "                                        'Population Served, estimated ':'est_pop'})\n"
   ]
  },
  {
   "cell_type": "markdown",
   "id": "b73c305a",
   "metadata": {},
   "source": [
    "looks good. now lets double check for any missing values. we will use .isnull().sum()"
   ]
  },
  {
   "cell_type": "code",
   "execution_count": 13,
   "id": "fdd44557",
   "metadata": {},
   "outputs": [
    {
     "data": {
      "text/plain": [
       "sample_date             0\n",
       "Test date              21\n",
       "collection_site         0\n",
       "WRRF Abbreviation       0\n",
       "concentration         173\n",
       "per_capita            207\n",
       "Annotation           3910\n",
       "est_pop                 0\n",
       "Technology              0\n",
       "dtype: int64"
      ]
     },
     "execution_count": 13,
     "metadata": {},
     "output_type": "execute_result"
    }
   ],
   "source": [
    "covid_waste.isnull().sum()"
   ]
  },
  {
   "cell_type": "markdown",
   "id": "31f73f89",
   "metadata": {},
   "source": [
    "upon checking the website some dates dont have a sample collection for various reasons. with that in mind we will just drop the null data.\n",
    "we need to see the concentration of COVID genetic material over time. imputing the data with the average or median result may be detrimental to our ability to predict future outcomes"
   ]
  },
  {
   "cell_type": "code",
   "execution_count": 14,
   "id": "409591ea",
   "metadata": {},
   "outputs": [],
   "source": [
    "covid_waste=covid_waste.dropna()"
   ]
  },
  {
   "cell_type": "code",
   "execution_count": 15,
   "id": "c109dc2b",
   "metadata": {},
   "outputs": [
    {
     "data": {
      "text/plain": [
       "sample_date          0\n",
       "Test date            0\n",
       "collection_site      0\n",
       "WRRF Abbreviation    0\n",
       "concentration        0\n",
       "per_capita           0\n",
       "Annotation           0\n",
       "est_pop              0\n",
       "Technology           0\n",
       "dtype: int64"
      ]
     },
     "execution_count": 15,
     "metadata": {},
     "output_type": "execute_result"
    }
   ],
   "source": [
    "covid_waste.isnull().sum()"
   ]
  },
  {
   "cell_type": "code",
   "execution_count": 16,
   "id": "5887ba91",
   "metadata": {},
   "outputs": [
    {
     "data": {
      "text/html": [
       "<div>\n",
       "<style scoped>\n",
       "    .dataframe tbody tr th:only-of-type {\n",
       "        vertical-align: middle;\n",
       "    }\n",
       "\n",
       "    .dataframe tbody tr th {\n",
       "        vertical-align: top;\n",
       "    }\n",
       "\n",
       "    .dataframe thead th {\n",
       "        text-align: right;\n",
       "    }\n",
       "</style>\n",
       "<table border=\"1\" class=\"dataframe\">\n",
       "  <thead>\n",
       "    <tr style=\"text-align: right;\">\n",
       "      <th></th>\n",
       "      <th>sample_date</th>\n",
       "      <th>Test date</th>\n",
       "      <th>collection_site</th>\n",
       "      <th>WRRF Abbreviation</th>\n",
       "      <th>concentration</th>\n",
       "      <th>per_capita</th>\n",
       "      <th>Annotation</th>\n",
       "      <th>est_pop</th>\n",
       "      <th>Technology</th>\n",
       "    </tr>\n",
       "  </thead>\n",
       "  <tbody>\n",
       "    <tr>\n",
       "      <th>0</th>\n",
       "      <td>2020-08-31</td>\n",
       "      <td>09/01/2020</td>\n",
       "      <td>26th Ward</td>\n",
       "      <td>26W</td>\n",
       "      <td>389.0</td>\n",
       "      <td>264000.0</td>\n",
       "      <td>Concentration below Method Limit of Quantifica...</td>\n",
       "      <td>318262</td>\n",
       "      <td>RT-qPCR - N1</td>\n",
       "    </tr>\n",
       "    <tr>\n",
       "      <th>2</th>\n",
       "      <td>2020-08-31</td>\n",
       "      <td>09/01/2020</td>\n",
       "      <td>Coney Island</td>\n",
       "      <td>CI</td>\n",
       "      <td>304.0</td>\n",
       "      <td>169000.0</td>\n",
       "      <td>Concentration below Method Limit of Quantifica...</td>\n",
       "      <td>647635</td>\n",
       "      <td>RT-qPCR - N1</td>\n",
       "    </tr>\n",
       "    <tr>\n",
       "      <th>5</th>\n",
       "      <td>2020-08-31</td>\n",
       "      <td>09/01/2020</td>\n",
       "      <td>Newtown Creek</td>\n",
       "      <td>NC</td>\n",
       "      <td>197.0</td>\n",
       "      <td>122000.0</td>\n",
       "      <td>Concentration below Method Limit of Quantifica...</td>\n",
       "      <td>1227810</td>\n",
       "      <td>RT-qPCR - N1</td>\n",
       "    </tr>\n",
       "    <tr>\n",
       "      <th>11</th>\n",
       "      <td>2020-08-31</td>\n",
       "      <td>09/01/2020</td>\n",
       "      <td>Rockaway</td>\n",
       "      <td>RK</td>\n",
       "      <td>371.0</td>\n",
       "      <td>210000.0</td>\n",
       "      <td>Concentration below Method Limit of Quantifica...</td>\n",
       "      <td>117991</td>\n",
       "      <td>RT-qPCR - N1</td>\n",
       "    </tr>\n",
       "    <tr>\n",
       "      <th>12</th>\n",
       "      <td>2020-08-31</td>\n",
       "      <td>09/01/2020</td>\n",
       "      <td>Tallman Island</td>\n",
       "      <td>TI</td>\n",
       "      <td>571.0</td>\n",
       "      <td>250000.0</td>\n",
       "      <td>Concentration below Method Limit of Quantifica...</td>\n",
       "      <td>457817</td>\n",
       "      <td>RT-qPCR - N1</td>\n",
       "    </tr>\n",
       "  </tbody>\n",
       "</table>\n",
       "</div>"
      ],
      "text/plain": [
       "   sample_date   Test date collection_site WRRF Abbreviation  concentration  \\\n",
       "0   2020-08-31  09/01/2020       26th Ward               26W          389.0   \n",
       "2   2020-08-31  09/01/2020    Coney Island                CI          304.0   \n",
       "5   2020-08-31  09/01/2020   Newtown Creek                NC          197.0   \n",
       "11  2020-08-31  09/01/2020        Rockaway                RK          371.0   \n",
       "12  2020-08-31  09/01/2020  Tallman Island                TI          571.0   \n",
       "\n",
       "    per_capita                                         Annotation  est_pop  \\\n",
       "0     264000.0  Concentration below Method Limit of Quantifica...   318262   \n",
       "2     169000.0  Concentration below Method Limit of Quantifica...   647635   \n",
       "5     122000.0  Concentration below Method Limit of Quantifica...  1227810   \n",
       "11    210000.0  Concentration below Method Limit of Quantifica...   117991   \n",
       "12    250000.0  Concentration below Method Limit of Quantifica...   457817   \n",
       "\n",
       "      Technology  \n",
       "0   RT-qPCR - N1  \n",
       "2   RT-qPCR - N1  \n",
       "5   RT-qPCR - N1  \n",
       "11  RT-qPCR - N1  \n",
       "12  RT-qPCR - N1  "
      ]
     },
     "execution_count": 16,
     "metadata": {},
     "output_type": "execute_result"
    }
   ],
   "source": [
    "covid_waste.head()"
   ]
  },
  {
   "cell_type": "markdown",
   "id": "b6e1e2f7",
   "metadata": {},
   "source": [
    "### selecting a window of time\n",
    "we want to predict a spike in waste water material before we see it spike in the general population. lets investiage the date ranges of our data"
   ]
  },
  {
   "cell_type": "code",
   "execution_count": 17,
   "id": "4268f2d8",
   "metadata": {},
   "outputs": [
    {
     "name": "stdout",
     "output_type": "stream",
     "text": [
      "2021-09-28 00:00:00\n",
      "2020-01-01 00:00:00\n",
      "covid out dates\n",
      "2024-05-14 00:00:00\n",
      "2020-08-31 00:00:00\n",
      "covid waste dates\n"
     ]
    }
   ],
   "source": [
    "print(covid_out['sample_date'].max())\n",
    "print(covid_out['sample_date'].min())\n",
    "print('covid out dates')\n",
    "\n",
    "print(covid_waste['sample_date'].max())\n",
    "print(covid_waste['sample_date'].min())\n",
    "print('covid waste dates')"
   ]
  },
  {
   "cell_type": "markdown",
   "id": "ce4313b3",
   "metadata": {},
   "source": [
    "We can see COVID waste has a wider date range. we should select the date that are in common between the DataFrames"
   ]
  },
  {
   "cell_type": "code",
   "execution_count": 18,
   "id": "25aa28ff",
   "metadata": {},
   "outputs": [
    {
     "name": "stdout",
     "output_type": "stream",
     "text": [
      "   sample_date   Test date collection_site WRRF Abbreviation  concentration  \\\n",
      "0   2020-08-31  09/01/2020       26th Ward               26W          389.0   \n",
      "2   2020-08-31  09/01/2020    Coney Island                CI          304.0   \n",
      "5   2020-08-31  09/01/2020   Newtown Creek                NC          197.0   \n",
      "11  2020-08-31  09/01/2020        Rockaway                RK          371.0   \n",
      "12  2020-08-31  09/01/2020  Tallman Island                TI          571.0   \n",
      "\n",
      "    per_capita                                         Annotation  est_pop  \\\n",
      "0     264000.0  Concentration below Method Limit of Quantifica...   318262   \n",
      "2     169000.0  Concentration below Method Limit of Quantifica...   647635   \n",
      "5     122000.0  Concentration below Method Limit of Quantifica...  1227810   \n",
      "11    210000.0  Concentration below Method Limit of Quantifica...   117991   \n",
      "12    250000.0  Concentration below Method Limit of Quantifica...   457817   \n",
      "\n",
      "      Technology  \n",
      "0   RT-qPCR - N1  \n",
      "2   RT-qPCR - N1  \n",
      "5   RT-qPCR - N1  \n",
      "11  RT-qPCR - N1  \n",
      "12  RT-qPCR - N1  \n",
      "      sample_date  number_tested  number_confirmed  number_hospitalized  \\\n",
      "12693  2020-08-02             40                 1                    0   \n",
      "12768  2020-08-02           1259                12                    4   \n",
      "12835  2020-08-03             71                 1                    0   \n",
      "12926  2020-08-02           3018                54                    8   \n",
      "12932  2020-08-05            104                 2                    0   \n",
      "\n",
      "       Number_deaths  \n",
      "12693              0  \n",
      "12768              0  \n",
      "12835              0  \n",
      "12926              0  \n",
      "12932              0  \n"
     ]
    }
   ],
   "source": [
    "mask1 = (covid_waste['sample_date'] > '2020-08-01') & (covid_waste['sample_date'] <= '2021-09-01')\n",
    "\n",
    "covid_waste_short= covid_waste.loc[mask1]\n",
    "print(covid_waste_short.head())\n",
    "\n",
    "mask2 = (covid_out['sample_date'] > '2020-08-01') & (covid_out['sample_date'] <= '2021-09-01')\n",
    "covid_out_short= covid_out.loc[mask2]\n",
    "print(covid_out_short.head())\n"
   ]
  },
  {
   "cell_type": "markdown",
   "id": "5020da61",
   "metadata": {},
   "source": [
    "## lets visualize the data"
   ]
  },
  {
   "cell_type": "code",
   "execution_count": 20,
   "id": "7443d1a2",
   "metadata": {},
   "outputs": [],
   "source": [
    "#lets graph the data of the data ranges are the same\n",
    "import matplotlib.pyplot as plt"
   ]
  },
  {
   "cell_type": "code",
   "execution_count": 21,
   "id": "f9b1f0f1",
   "metadata": {},
   "outputs": [
    {
     "data": {
      "image/png": "[encoded data removed]",
      "text/plain": [
       "<Figure size 1000x500 with 1 Axes>"
      ]
     },
     "metadata": {},
     "output_type": "display_data"
    },
    {
     "data": {
      "image/png": "[encoded data removed]",
      "text/plain": [
       "<Figure size 1000x500 with 1 Axes>"
      ]
     },
     "metadata": {},
     "output_type": "display_data"
    }
   ],
   "source": [
    "covid_waste_short.plot(x='sample_date', y=['collection_site', 'concentration', 'per_capita', 'est_pop'], figsize=(10,5))\n",
    "                 \n",
    "plt.xlabel('date')\n",
    "\n",
    "plt.ylabel('covid waste concentration')\n",
    "\n",
    "plt.title('NYC waste concentration')\n",
    "\n",
    "plt.show()\n",
    "\n",
    "\n",
    "\n",
    "\n",
    "covid_out_short.plot(x='sample_date', y=['number_tested', 'number_confirmed', 'number_hospitalized', 'number_hospitalized'],figsize=(10,5))\n",
    "\n",
    "plt.xlabel('date')\n",
    "\n",
    "plt.ylabel('covid tracking')\n",
    "\n",
    "plt.title('NYC covid rates over time')\n",
    "\n",
    "plt.show()\n",
    "\n"
   ]
  },
  {
   "cell_type": "markdown",
   "id": "1df8c778",
   "metadata": {},
   "source": [
    "Things look promising.\n",
    "we are ready for the next step Exploratory Data Analysis."
   ]
  },
  {
   "cell_type": "code",
   "execution_count": null,
   "id": "ef6654d4",
   "metadata": {},
   "outputs": [],
   "source": []
  },
  {
   "cell_type": "code",
   "execution_count": null,
   "id": "4a10398f",
   "metadata": {},
   "outputs": [],
   "source": []
  }
 ],
 "metadata": {
  "kernelspec": {
   "display_name": "Python 3 (ipykernel)",
   "language": "python",
   "name": "python3"
  },
  "language_info": {
   "codemirror_mode": {
    "name": "ipython",
    "version": 3
   },
   "file_extension": ".py",
   "mimetype": "text/x-python",
   "name": "python",
   "nbconvert_exporter": "python",
   "pygments_lexer": "ipython3",
   "version": "3.11.3"
  }
 },
 "nbformat": 4,
 "nbformat_minor": 5
}
