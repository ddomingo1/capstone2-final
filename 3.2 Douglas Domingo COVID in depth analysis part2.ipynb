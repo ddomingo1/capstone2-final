{
 "cells": [
  {
   "cell_type": "markdown",
   "id": "4627175a",
   "metadata": {},
   "source": [
    "# Time series analysis\n"
   ]
  },
  {
   "cell_type": "markdown",
   "id": "c92830eb",
   "metadata": {},
   "source": [
    "We will repeat the steps from previous notebooks until we get to the modeling phase"
   ]
  },
  {
   "cell_type": "code",
   "execution_count": 1,
   "id": "cb0db149",
   "metadata": {},
   "outputs": [],
   "source": [
    "#import the relevant modules\n",
    "import pandas as pd\n",
    "import numpy as np\n",
    "import matplotlib.pyplot as plt\n",
    "import seaborn as sns\n",
    "from sklearn.preprocessing import StandardScaler\n",
    "from sklearn.compose import ColumnTransformer\n",
    "import statsmodels.api as sm\n",
    "import statsmodels.formula.api as smf\n",
    "from scipy import stats\n",
    "from sklearn.datasets import make_moons\n",
    "from sklearn.metrics import accuracy_score\n",
    "from sklearn.model_selection import train_test_split\n",
    "from sklearn.tree import DecisionTreeClassifier\n",
    "from sklearn.ensemble import RandomForestClassifier,AdaBoostClassifier,GradientBoostingClassifier\n",
    "from sklearn.model_selection import TimeSeriesSplit\n",
    "from sklearn.utils import indexable\n",
    "from sklearn.utils.validation import _num_samples\n",
    "from sklearn.ensemble import RandomForestRegressor\n",
    "from sklearn.metrics import mean_squared_error, r2_score\n",
    "from sklearn.neighbors import KNeighborsClassifier\n",
    "from sklearn.model_selection import GridSearchCV"
   ]
  },
  {
   "cell_type": "code",
   "execution_count": 6,
   "id": "75aa0d5f",
   "metadata": {},
   "outputs": [],
   "source": [
    "covid_out = pd.read_csv('COVID-19_Outcomes_by_Testing_Cohorts__Cases__Hospitalizations__and_Deaths_20240603.csv')\n",
    "covid_waste = pd.read_csv('SARS-CoV-2_concentrations_measured_in_NYC_Wastewater_20240603.csv')"
   ]
  },
  {
   "cell_type": "code",
   "execution_count": 7,
   "id": "fdf83811",
   "metadata": {},
   "outputs": [],
   "source": [
    "\n",
    "\n",
    "covid_out['specimen_date']=covid_out['specimen_date'].astype('str')\n",
    "covid_out['specimen_date']= pd.to_datetime(covid_out['specimen_date'], errors= 'coerce')\n",
    "covid_out= covid_out.drop('extract_date', axis=1)\n",
    "covid_out= covid_out.rename(columns={'specimen_date':'sample_date',\n",
    "                                        'Number_tested':'number_tested',\n",
    "                                        'Number_confirmed':'number_confirmed',\n",
    "                                        'Number_hospitalized':'number_hospitalized',})\n",
    "covid_out=covid_out.dropna()\n",
    "\n",
    "\n"
   ]
  },
  {
   "cell_type": "code",
   "execution_count": 8,
   "id": "87a41dd8",
   "metadata": {},
   "outputs": [],
   "source": [
    "covid_waste=covid_waste.drop('Annotation', axis=1)\n",
    "covid_waste=covid_waste.drop('Technology', axis=1)\n",
    "covid_waste=covid_waste.drop('WRRF Abbreviation', axis=1)\n",
    "covid_waste=covid_waste.drop('Test date', axis=1)\n",
    "\n",
    "\n",
    "\n",
    "covid_waste['Sample Date']=covid_waste['Sample Date'].astype('str')\n",
    "covid_waste['Sample Date']= pd.to_datetime(covid_waste['Sample Date'], errors= 'coerce')\n",
    "\n",
    "covid_waste= covid_waste.rename(columns={'Sample Date':'sample_date',\n",
    "                                        'WRRF Name':'collection_site',\n",
    "                                        'Concentration SARS-CoV-2 gene target (N1 Copies/L) ':'concentration',\n",
    "                                        'Per capita SARS-CoV-2 load (N1 copies per day per population)':'per_capita',\n",
    "                                        'Population Served, estimated ':'est_pop'})\n",
    "covid_waste=covid_waste.dropna()\n",
    "\n",
    "\n",
    "\n"
   ]
  },
  {
   "cell_type": "code",
   "execution_count": 9,
   "id": "3c93746c",
   "metadata": {},
   "outputs": [],
   "source": [
    "covid_waste=covid_waste.drop('collection_site', axis=1)\n",
    "covid_waste=covid_waste.drop('est_pop', axis=1)"
   ]
  },
  {
   "cell_type": "code",
   "execution_count": 10,
   "id": "99a9e199",
   "metadata": {},
   "outputs": [
    {
     "name": "stdout",
     "output_type": "stream",
     "text": [
      "  sample_date  concentration  per_capita\n",
      "0  2020-08-31          389.0    264000.0\n",
      "1  2020-08-31         1204.0    444000.0\n",
      "2  2020-08-31          304.0    169000.0\n",
      "3  2020-08-31          940.0    574000.0\n",
      "4  2020-08-31          632.0    233000.0\n",
      "      sample_date  number_tested  number_confirmed  number_hospitalized  \\\n",
      "12693  2020-08-02             40                 1                    0   \n",
      "12768  2020-08-02           1259                12                    4   \n",
      "12835  2020-08-03             71                 1                    0   \n",
      "12926  2020-08-02           3018                54                    8   \n",
      "12932  2020-08-05            104                 2                    0   \n",
      "\n",
      "       Number_deaths  \n",
      "12693              0  \n",
      "12768              0  \n",
      "12835              0  \n",
      "12926              0  \n",
      "12932              0  \n"
     ]
    }
   ],
   "source": [
    "mask1 = (covid_waste['sample_date'] > '2020-08-01') & (covid_waste['sample_date'] <= '2021-09-01')\n",
    "\n",
    "covid_waste_short= covid_waste.loc[mask1]\n",
    "print(covid_waste_short.head())\n",
    "\n",
    "mask2 = (covid_out['sample_date'] > '2020-08-01') & (covid_out['sample_date'] <= '2021-09-01')\n",
    "covid_out_short= covid_out.loc[mask2]\n",
    "print(covid_out_short.head())\n"
   ]
  },
  {
   "cell_type": "markdown",
   "id": "8856370f",
   "metadata": {},
   "source": [
    "now that we are at a similar starting point from before we can begin trying a time series split of the data to see if we can boost scores"
   ]
  },
  {
   "cell_type": "code",
   "execution_count": 11,
   "id": "68c0ef7b",
   "metadata": {},
   "outputs": [
    {
     "name": "stdout",
     "output_type": "stream",
     "text": [
      "TRAIN indices: [0 1 2 3] TEST indices: [4 5]\n",
      "X_train:              per_capita  number_confirmed\n",
      "sample_date                              \n",
      "2020-09-01            0                10\n",
      "2020-09-02            1                11\n",
      "2020-09-03            2                12\n",
      "2020-09-04            3                13 X_test:              per_capita  number_confirmed\n",
      "sample_date                              \n",
      "2020-09-05            4                14\n",
      "2020-09-06            5                15\n",
      "y_train: DatetimeIndex(['2020-09-01', '2020-09-02', '2020-09-03', '2020-09-04'], dtype='datetime64[ns]', name='sample_date', freq=None) y_test: DatetimeIndex(['2020-09-05', '2020-09-06'], dtype='datetime64[ns]', name='sample_date', freq=None)\n",
      "TRAIN indices: [0 1 2 3 4 5] TEST indices: [6 7]\n",
      "X_train:              per_capita  number_confirmed\n",
      "sample_date                              \n",
      "2020-09-01            0                10\n",
      "2020-09-02            1                11\n",
      "2020-09-03            2                12\n",
      "2020-09-04            3                13\n",
      "2020-09-05            4                14\n",
      "2020-09-06            5                15 X_test:              per_capita  number_confirmed\n",
      "sample_date                              \n",
      "2020-09-07            6                16\n",
      "2020-09-08            7                17\n",
      "y_train: DatetimeIndex(['2020-09-01', '2020-09-02', '2020-09-03', '2020-09-04',\n",
      "               '2020-09-05', '2020-09-06'],\n",
      "              dtype='datetime64[ns]', name='sample_date', freq=None) y_test: DatetimeIndex(['2020-09-07', '2020-09-08'], dtype='datetime64[ns]', name='sample_date', freq=None)\n",
      "TRAIN indices: [0 1 2 3 4 5 6 7] TEST indices: [8 9]\n",
      "X_train:              per_capita  number_confirmed\n",
      "sample_date                              \n",
      "2020-09-01            0                10\n",
      "2020-09-02            1                11\n",
      "2020-09-03            2                12\n",
      "2020-09-04            3                13\n",
      "2020-09-05            4                14\n",
      "2020-09-06            5                15\n",
      "2020-09-07            6                16\n",
      "2020-09-08            7                17 X_test:              per_capita  number_confirmed\n",
      "sample_date                              \n",
      "2020-09-09            8                18\n",
      "2020-09-10            9                19\n",
      "y_train: DatetimeIndex(['2020-09-01', '2020-09-02', '2020-09-03', '2020-09-04',\n",
      "               '2020-09-05', '2020-09-06', '2020-09-07', '2020-09-08'],\n",
      "              dtype='datetime64[ns]', name='sample_date', freq=None) y_test: DatetimeIndex(['2020-09-09', '2020-09-10'], dtype='datetime64[ns]', name='sample_date', freq=None)\n"
     ]
    }
   ],
   "source": [
    "covid_time1 = {\n",
    "    'sample_date': pd.date_range(start='2020-09-01', periods=10, freq='D'),\n",
    "    'per_capita': range(10),\n",
    "    'number_confirmed': range(10, 20)\n",
    "}\n",
    "covid_time1 = pd.DataFrame(covid_time1)\n",
    "\n",
    "# Ensure that covid_time1 is a DataFrame\n",
    "if isinstance(covid_time1, pd.DataFrame):\n",
    "    # Set 'sample_date' as the index\n",
    "    covid_time1.set_index('sample_date', inplace=True)\n",
    "    covid_time1.sort_index(inplace=True)\n",
    "\n",
    "    # Define X and y\n",
    "    X = covid_time1\n",
    "    y = covid_time1.index\n",
    "\n",
    "    # Initialize TimeSeriesSplit\n",
    "    tss = TimeSeriesSplit(n_splits=3)\n",
    "\n",
    "    # Split the data using TimeSeriesSplit\n",
    "    for train_index, test_index in tss.split(X):\n",
    "        X_train, X_test = X.iloc[train_index, :], X.iloc[test_index, :]\n",
    "        y_train, y_test = y[train_index], y[test_index]\n",
    "\n",
    "        print(\"TRAIN indices:\", train_index, \"TEST indices:\", test_index)\n",
    "        print(\"X_train:\", X_train, \"X_test:\", X_test)\n",
    "        print(\"y_train:\", y_train, \"y_test:\", y_test)\n",
    "else:\n",
    "    print(\"covid_time1 is not a DataFrame\")\n",
    "\n"
   ]
  },
  {
   "cell_type": "code",
   "execution_count": 12,
   "id": "0db115ae",
   "metadata": {},
   "outputs": [
    {
     "name": "stdout",
     "output_type": "stream",
     "text": [
      "Correlation between rolling COVID-19 cases and number_confirmed: -0.18502118704193707\n"
     ]
    }
   ],
   "source": [
    "\n",
    "covid_time1 = {\n",
    "    'sample_date': pd.date_range(start='2020-09-01', periods=100, freq='D'),\n",
    "    'per_capita': np.random.randint(0, 100, size=100),\n",
    "    'number_confirmed': np.random.rand(100) * 1000\n",
    "}\n",
    "df = pd.DataFrame(covid_time1)\n",
    "\n",
    "# Ensure 'date' is the index\n",
    "df.set_index('sample_date', inplace=True)\n",
    "\n",
    "# Define the window size for the rolling calculation\n",
    "window_size = 7\n",
    "\n",
    "# Calculate the rolling window for COVID-19 cases\n",
    "df['rolling_covid_cases'] = df['per_capita'].rolling(window=window_size).mean()\n",
    "\n",
    "# Drop NaN values that result from rolling window operation\n",
    "df.dropna(subset=['rolling_covid_cases'], inplace=True)\n",
    "\n",
    "# Calculate the correlation between rolling COVID-19 cases and GDP\n",
    "correlation = df['rolling_covid_cases'].corr(df['number_confirmed'])\n",
    "\n",
    "print(\"Correlation between rolling COVID-19 cases and number_confirmed:\", correlation)\n"
   ]
  },
  {
   "cell_type": "markdown",
   "id": "b2a59cc0",
   "metadata": {},
   "source": [
    "even with time series split with a rolling window it seems we cant use this data to predict future outbreaks."
   ]
  },
  {
   "cell_type": "code",
   "execution_count": null,
   "id": "7dd5cecf",
   "metadata": {},
   "outputs": [],
   "source": []
  }
 ],
 "metadata": {
  "kernelspec": {
   "display_name": "Python 3 (ipykernel)",
   "language": "python",
   "name": "python3"
  },
  "language_info": {
   "codemirror_mode": {
    "name": "ipython",
    "version": 3
   },
   "file_extension": ".py",
   "mimetype": "text/x-python",
   "name": "python",
   "nbconvert_exporter": "python",
   "pygments_lexer": "ipython3",
   "version": "3.11.3"
  }
 },
 "nbformat": 4,
 "nbformat_minor": 5
}
